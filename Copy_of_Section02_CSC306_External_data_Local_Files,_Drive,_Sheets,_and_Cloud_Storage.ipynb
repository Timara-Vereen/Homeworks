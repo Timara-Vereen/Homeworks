{
  "cells": [
    {
      "cell_type": "markdown",
      "metadata": {
        "id": "view-in-github",
        "colab_type": "text"
      },
      "source": [
        "<a href=\"https://colab.research.google.com/github/Timara-Vereen/Homeworks/blob/main/Copy_of_Section02_CSC306_External_data_Local_Files%2C_Drive%2C_Sheets%2C_and_Cloud_Storage.ipynb\" target=\"_parent\"><img src=\"https://colab.research.google.com/assets/colab-badge.svg\" alt=\"Open In Colab\"/></a>"
      ]
    },
    {
      "cell_type": "markdown",
      "source": [
        "#THIS Notebook IS ADAPTED FROM GOOGLE COLAB REPOSITORY WITH SOME MODIFICATION\n",
        "\n",
        "This notebook provides recipes for loading and saving data from external sources."
      ],
      "metadata": {
        "id": "EtvfC_aj04m7"
      }
    },
    {
      "cell_type": "markdown",
      "source": [
        "## Open files from [GitHub](https://github.com/)\n",
        "\n",
        "To open a file from GitHub, you can clone the repo or fetch the file directly.\n",
        "\n",
        "\n",
        "If you are trying to access files from a private repo, you must use a [GitHub access token](https://help.github.com/en/articles/creating-a-personal-access-token-for-the-command-line).\n"
      ],
      "metadata": {
        "id": "MKFZqfB4LvXM"
      }
    },
    {
      "cell_type": "code",
      "source": [
        "#this is how we access some data for your homework.\n",
        "# The following command is a shell command (not Python code).\n",
        "\n",
        "# A shell command is a directive to a computer program operating system\n",
        "# to run a specific function. The shell is essentially an interface\n",
        "# that allows users to interact with the operating system by entering\n",
        "# commands. These commands are then interpreted and executed by the\n",
        "# operating system.\n",
        "\n",
        "# The symbol '!' at the beginning indicates that the following command\n",
        "# is intended to be run in the shell (or command-line interface), not\n",
        "# within the context of a Python program. In some environments like Jupyter\n",
        "# Notebooks, this '!' prefix allows you to run shell commands directly\n",
        "# from within the notebook.\n",
        "\n",
        "# 'wget' is one such shell command. It stands for \"web get\" and is a\n",
        "# utility to download files from the web. Instead of navigating to a\n",
        "# browser and manually downloading a file, 'wget' provides a way to do\n",
        "# this directly from the command line.\n",
        "\n",
        "# The URL provided ('https://...X73525.fasta') is a direct link to the raw\n",
        "# content of a file hosted on GitHub. In this specific context, it's a\n",
        "# '.fasta' file. FASTA format is a text-based format for representing\n",
        "# nucleotide sequences (like DNA) or amino acid sequences (like proteins).\n",
        "\n",
        "# Once this command is executed, 'wget' fetches the content of the URL and\n",
        "# saves it to a local file in the current directory, in this case,\n",
        "# named 'X73525.fasta'.\n",
        "\n",
        "!wget https://raw.githubusercontent.com/Peziza/306/main/X73525.fasta\n",
        "\n"
      ],
      "metadata": {
        "id": "fDl30cvwYoAm"
      },
      "execution_count": null,
      "outputs": []
    },
    {
      "cell_type": "code",
      "source": [
        "# ----------------------------------------------\n",
        "# Shell Commands in Jupyter Notebooks\n",
        "# ----------------------------------------------\n",
        "# In Jupyter Notebooks, we can execute shell commands directly within code cells by prefixing the command with a '!' character.\n",
        "# This is very useful because it allows us to mix Python code and system commands in the same environment.\n",
        "\n",
        "# ========================================\n",
        "# Clone a Git Repository\n",
        "# ========================================\n",
        "\n",
        "# \"Cloning\" in Git means making a local copy of a remote repository.\n",
        "# It allows you to download the code from a remote repository (like GitHub) to your local machine.\n",
        "\n",
        "# The command to clone a repository is 'git clone' followed by the URL of the repository.\n",
        "# Here, we prefix it with '!' to run it as a shell command in the notebook.\n",
        "\n",
        "!git clone https://github.com/Peziza/306.git\n",
        "\n",
        "# After this command, a new folder named '306' will be created in the current directory.\n",
        "# This folder contains all the files and history of the repository.\n",
        "\n",
        "# ========================================\n",
        "# Change Directory (cd command)\n",
        "# ========================================\n",
        "\n",
        "# Directories can be thought of as folders that contain files and other directories.\n",
        "# To navigate between directories, we use the 'cd' (Change Directory) command.\n",
        "\n",
        "# In a regular terminal, you'd just type 'cd directory_name'.\n",
        "# But in Jupyter, the '!' prefix is needed for shell commands, and using '!cd' only changes the directory temporarily for that command.\n",
        "\n",
        "# Therefore, for a persistent change in Jupyter, we use the Python 'os' module.\n",
        "import os  # os is a module in Python that provides a way of using operating system dependent functionality.\n",
        "\n",
        "# Now, we'll change our working directory to the '306' directory using Python:\n",
        "os.chdir('306')\n",
        "\n",
        "# This means our current location in the file system is now inside the '306' folder.\n",
        "\n",
        "# ========================================\n",
        "# List Files (ls command)\n",
        "# ========================================\n",
        "\n",
        "# Once you've changed directories, you might want to see what files and sub-directories are inside.\n",
        "# For this, we use the 'ls' (List) command.\n",
        "\n",
        "# The following command will list the contents of the current directory, which should be '306'.\n",
        "!ls\n",
        "\n",
        "# If you want more detailed information about each file (like permissions, file size, and modification date):\n",
        "# !ls -la\n"
      ],
      "metadata": {
        "id": "jYJe8sDoN_ND"
      },
      "execution_count": null,
      "outputs": []
    },
    {
      "cell_type": "markdown",
      "metadata": {
        "id": "eikfzi8ZT_rW"
      },
      "source": [
        "# Local file system"
      ]
    },
    {
      "cell_type": "markdown",
      "metadata": {
        "id": "BaCkyg5CV5jF"
      },
      "source": [
        "## Uploading files from your local file system\n",
        "\n",
        "`files.upload` returns a dictionary of the files which were uploaded.\n",
        "The dictionary is keyed by the file name and values are the data which were uploaded."
      ]
    },
    {
      "cell_type": "code",
      "execution_count": null,
      "metadata": {
        "id": "vz-jH8T_Uk2c"
      },
      "outputs": [],
      "source": [
        "# ------------------------\n",
        "# HEADER:\n",
        "# This script is designed for Google Colab, an interactive cloud-based Python environment.\n",
        "# The primary purpose is to allow the user to upload files from their local system to the Colab environment.\n",
        "# The code then prints the name and size of each uploaded file.\n",
        "# ------------------------\n",
        "\n",
        "# Importing the 'files' module from 'google.colab'. This module provides functions to interact with the Colab filesystem.\n",
        "\n",
        "from google.colab import files\n",
        "\n",
        "# Using the 'upload()' method from the 'files' module to open a prompt for the user to select and upload files.\n",
        "# The uploaded files are stored as a dictionary where the keys are the filenames and the values are the file contents in bytes.\n",
        "\n",
        "uploaded = files.upload()\n",
        "\n",
        "# Looping through the keys (filenames) of the 'uploaded' dictionary.\n",
        "\n",
        "for fn in uploaded.keys():  #this is a new variable type we will learn soon - dictionaries\n",
        "\n",
        "    # Printing out details of each uploaded file:\n",
        "    # - 'name' displays the filename.\n",
        "    # - 'length' displays the size of the file in bytes.\n",
        "\n",
        "    print('User uploaded file \"{name}\" with length {length} bytes'.format(\n",
        "        name=fn, length=len(uploaded[fn])))\n"
      ]
    },
    {
      "cell_type": "markdown",
      "metadata": {
        "id": "hauvGV4hV-Mh"
      },
      "source": [
        "## Downloading files to your local file system\n",
        "\n",
        "`files.download` will invoke a browser download of the file to your local computer.\n"
      ]
    },
    {
      "cell_type": "code",
      "execution_count": null,
      "metadata": {
        "id": "p2E4EKhCWEC5"
      },
      "outputs": [],
      "source": [
        "# ------------------------\n",
        "# HEADER:\n",
        "# This script is designed for Google Colab, an interactive cloud-based Python environment.\n",
        "# The primary purpose of this script is to:\n",
        "# 1. Create a new file named 'example.txt' in the Colab environment.\n",
        "# 2. Write the string 'some content' into this file.\n",
        "# 3. Offer this file for download to the user's local system.\n",
        "# ------------------------\n",
        "\n",
        "# Importing the 'files' module from 'google.colab'. This module provides functions to interact with the Colab filesystem.\n",
        "\n",
        "from google.colab import files\n",
        "\n",
        "# The 'with' statement is used for handling file operations, ensuring that the file is properly opened and closed.\n",
        "# 'open('example.txt', 'w')' means we are opening (or creating if it doesn't exist) a file named 'example.txt' in write mode ('w').\n",
        "\n",
        "with open('example.txt', 'w') as f:\n",
        "    # Writing the string 'some content' to the file.\n",
        "    f.write('some content')\n",
        "\n",
        "# After writing to the file, we use the 'download' method from the 'files' module to prompt the user to download the 'example.txt' file.\n",
        "# This will download the file to the user's local machine.\n",
        "\n",
        "files.download('example.txt')\n"
      ]
    },
    {
      "cell_type": "markdown",
      "source": [
        "# ***MORE ADVANCED TOPICS***"
      ],
      "metadata": {
        "id": "qgLAcgI2Nqg4"
      }
    },
    {
      "cell_type": "markdown",
      "metadata": {
        "id": "c2W5A2px3doP"
      },
      "source": [
        "# Google Drive\n",
        "\n",
        "You can access files in Drive in a number of ways, including:\n",
        "- Mounting your Google Drive in the runtime's virtual machine\n",
        "- Using a wrapper around the API such as [PyDrive](https://pythonhosted.org/PyDrive/)  [advanced]\n",
        "\n",
        "\n",
        "\n",
        "\n",
        "Examples of each are below."
      ]
    },
    {
      "cell_type": "markdown",
      "metadata": {
        "id": "u22w3BFiOveA"
      },
      "source": [
        "## Mounting Google Drive locally\n",
        "\n",
        "The example below shows how to mount your Google Drive on your runtime using an authorization code, and how to write and read files there. Once executed, you will be able to see the new file (`foo.txt`) at [https://drive.google.com/](https://drive.google.com/).\n",
        "\n",
        "This only supports reading, writing, and moving files; to programmatically modify sharing settings or other metadata, use one of the other options below.\n",
        "\n",
        "**Note:** When using the 'Mount Drive' button in the file browser, no authentication codes are necessary for notebooks that have only been edited by the current user."
      ]
    },
    {
      "cell_type": "code",
      "execution_count": null,
      "metadata": {
        "colab": {
          "base_uri": "https://localhost:8080/"
        },
        "id": "RWSJpsyKqHjH",
        "outputId": "539095dd-aa80-43fc-b481-4bd66d469d9c"
      },
      "outputs": [
        {
          "output_type": "stream",
          "name": "stdout",
          "text": [
            "Mounted at /content/drive\n"
          ]
        }
      ],
      "source": [
        "# Google Colab provides an environment to run Jupyter notebooks on Google's cloud infrastructure.\n",
        "# One common task when using Colab is to access files from your Google Drive, since it allows for easy file sharing\n",
        "# and collaboration. The following code helps you mount your Google Drive within the Colab environment.\n",
        "\n",
        "# First, we're importing a specific function from the google.colab module.\n",
        "\n",
        "from google.colab import drive\n",
        "\n",
        "# Now, we call the mount() function from the drive object we just imported.\n",
        "# This function prompts you to authenticate with your Google account to access your Drive.\n",
        "# Once authenticated, your entire Google Drive will be \"mounted\" - i.e., made accessible -\n",
        "# at the specified directory, which in this case is '/content/drive'.\n",
        "# Think of \"mounting\" as adding an external storage device (like a USB stick) to your computer,\n",
        "# except here, the \"external storage\" is your Google Drive and the \"computer\" is the Google Colab environment.\n",
        "\n",
        "drive.mount('/content/drive')\n",
        "\n",
        "# After running this code, you'll be able to access, read, and save files to your Google Drive directly from your Colab notebook.\n",
        "# For instance, if you have a folder in your Google Drive named 'data', you can access it in Colab at the path '/content/drive/My Drive/data'.\n"
      ]
    },
    {
      "cell_type": "code",
      "execution_count": null,
      "metadata": {
        "colab": {
          "base_uri": "https://localhost:8080/"
        },
        "id": "XDg9OBaYqRMd",
        "outputId": "6461478e-28a1-4988-c8bd-4254cd0ab6e1"
      },
      "outputs": [
        {
          "output_type": "stream",
          "name": "stdout",
          "text": [
            "Hello Google Drive!"
          ]
        }
      ],
      "source": [
        "# Writing and reading files is a common operation in programming.\n",
        "# Here, we're doing this within the context of Google Colab and Google Drive.\n",
        "\n",
        "# ------------------------------------------\n",
        "# Writing to a File in Google Drive\n",
        "# ------------------------------------------\n",
        "\n",
        "# The 'with' statement is a way to ensure that resources are efficiently used.\n",
        "# In this case, it ensures that our file is properly closed after we're done with it.\n",
        "\n",
        "# 'open' is a built-in Python function that allows you to open (or create) a file.\n",
        "# The first argument is the path to the file.\n",
        "# The second argument, 'w', stands for 'write'. It means we want to write to the file.\n",
        "# If 'foo.txt' doesn't exist, it'll be created. If it does exist, it'll be overwritten.\n",
        "\n",
        "with open('/content/drive/My Drive/foo.txt', 'w') as f:\n",
        "    # The 'write' method writes a string to the file.\n",
        "    # Here, we're writing the string 'Hello Google Drive!' to our file.\n",
        "    f.write('Hello Google Drive!')\n",
        "\n",
        "# After the indented block under 'with', the file is automatically closed. This means any changes you made are saved and the file is no longer \"in use\" by your code.\n",
        "\n",
        "# ------------------------------------------\n",
        "# Displaying the Content of the File\n",
        "# ------------------------------------------\n",
        "\n",
        "# The '!' at the beginning signifies that we're running a shell command (not Python code).\n",
        "# 'cat' is a standard Unix utility that reads files sequentially, writing them to standard output.\n",
        "# The command below will display the contents of 'foo.txt'.\n",
        "\n",
        "!cat /content/drive/My\\ Drive/foo.txt\n",
        "\n",
        "# Note: In Unix-like systems, spaces in directory or file names can be problematic.\n",
        "# The backslash before the space ('My\\ Drive') is called \"escaping\" the space. It tells the shell to treat the space as part of the name, not as a separator between items.\n"
      ]
    },
    {
      "cell_type": "code",
      "execution_count": null,
      "metadata": {
        "colab": {
          "base_uri": "https://localhost:8080/"
        },
        "id": "D78AM1fFt2ty",
        "outputId": "bcb7efa7-84b4-4d5e-b2be-beed6ab8973e"
      },
      "outputs": [
        {
          "output_type": "stream",
          "name": "stdout",
          "text": [
            "All changes made in this colab session should now be visible in Drive.\n"
          ]
        }
      ],
      "source": [
        "# Google Colab provides a means to connect and interact with your Google Drive.\n",
        "# Once you're done working with the Drive files within Colab, it's a good practice to unmount (disconnect) it.\n",
        "# This ensures that all pending changes are properly saved and synchronized.\n",
        "\n",
        "# -------------------------------\n",
        "# Unmounting Google Drive\n",
        "# -------------------------------\n",
        "\n",
        "# The 'drive.flush_and_unmount()' function is a part of the 'google.colab' module.\n",
        "# 'flush_and_unmount' does two things:\n",
        "\n",
        "# 1. 'flush' ensures that any pending changes are written and saved to the Drive.\n",
        "#    This is crucial to ensure that any modifications you made are properly saved.\n",
        "# 2. 'unmount' disconnects the Drive from your Colab session.\n",
        "#    After this, you won't be able to access your Google Drive contents from this session unless you mount it again.\n",
        "drive.flush_and_unmount()\n",
        "\n",
        "# -------------------------------\n",
        "# Printing Confirmation Message\n",
        "# -------------------------------\n",
        "\n",
        "# After unmounting the Drive, it's helpful to let the user know the operation was successful.\n",
        "# The 'print' function displays the given message to the output.\n",
        "print('All changes made in this colab session should now be visible in Drive.')\n",
        "\n",
        "# This message is to reassure the user that whatever operations they've performed on their Drive files within Colab\n",
        "# have been saved and are now visible when they access Google Drive through other means (e.g., via the web interface or mobile app).\n"
      ]
    },
    {
      "cell_type": "markdown",
      "metadata": {
        "id": "sOm9PFrT8mGG"
      },
      "source": [
        "# Google Sheets\n",
        "\n",
        "Our examples below use the open-source [`gspread`](https://github.com/burnash/gspread) library for interacting with Google Sheets."
      ]
    },
    {
      "cell_type": "markdown",
      "metadata": {
        "id": "qzi9VsEqzI-o"
      },
      "source": [
        "Import the library, authenticate, and create the interface to Sheets."
      ]
    },
    {
      "cell_type": "code",
      "execution_count": null,
      "metadata": {
        "id": "6d0xJz3VzLOo"
      },
      "outputs": [],
      "source": [
        "# ------------------------\n",
        "# HEADER:\n",
        "# This script is intended for use within Google Colab, a cloud-based interactive environment for Python.\n",
        "# Its purpose is to authenticate the user with Google's services, specifically to access Google Sheets using the `gspread` library.\n",
        "# ------------------------\n",
        "\n",
        "# Importing necessary modules:\n",
        "# 1. The 'auth' module from 'google.colab' allows us to authenticate with Google's services.\n",
        "\n",
        "from google.colab import auth\n",
        "\n",
        "# Calling the 'authenticate_user()' method.\n",
        "# This prompts the user (you) to authenticate with your Google account. It's a security step to ensure that\n",
        "# only authorized users can interact with the user's Google services from within Colab.\n",
        "\n",
        "auth.authenticate_user()\n",
        "\n",
        "# The 'gspread' library provides a simple interface to interact with Google Sheets from Python.\n",
        "# Here, we are importing the entire 'gspread' library.\n",
        "\n",
        "import gspread\n",
        "\n",
        "# Importing the 'default' function from the 'google.auth' module.\n",
        "# This function helps in obtaining the default Google application credentials.\n",
        "\n",
        "from google.auth import default\n",
        "\n",
        "# Calling the 'default()' function.\n",
        "# It returns a tuple, where the first item (which we've named 'creds') contains the authentication credentials.\n",
        "# The second item (represented by the underscore '_') is not used in this script, so we don't give it a meaningful name.\n",
        "# This approach of using an underscore is common in Python when we want to discard a specific value.\n",
        "\n",
        "creds, _ = default()\n",
        "\n",
        "# Authorizing our 'gspread' library to use the credentials.\n",
        "# This allows 'gspread' to access Google Sheets on our behalf, using the provided credentials.\n",
        "\n",
        "gc = gspread.authorize(creds)\n"
      ]
    },
    {
      "cell_type": "markdown",
      "metadata": {
        "id": "yjrZQUrt6kKj"
      },
      "source": [
        "Below is a small set of `gspread` examples. Additional examples are available at the [`gspread` GitHub page](https://github.com/burnash/gspread#more-examples)."
      ]
    },
    {
      "cell_type": "markdown",
      "metadata": {
        "id": "WgXqE02UofZG"
      },
      "source": [
        "## Creating a new sheet with data from Python"
      ]
    },
    {
      "cell_type": "code",
      "execution_count": null,
      "metadata": {
        "id": "tnnYKhGfzGeP"
      },
      "outputs": [],
      "source": [
        "# Using the 'create' method of our authorized 'gspread' client (denoted as 'gc').\n",
        "# This method creates a new Google Sheet with the specified name ('My cool spreadsheet') in your Google Drive.\n",
        "# Once the sheet is created, it returns a reference to this new sheet, which we are storing in the variable 'sh'.\n",
        "\n",
        "sh = gc.create('My cool spreadsheet')\n"
      ]
    },
    {
      "cell_type": "markdown",
      "metadata": {
        "id": "v9Ia9JVc6Zvk"
      },
      "source": [
        "After executing the cell above, you will see a new spreadsheet named 'My cool spreadsheet' at [https://sheets.google.com](https://sheets.google.com/).\n",
        "\n",
        "Open our new sheet and add some random data."
      ]
    },
    {
      "cell_type": "code",
      "execution_count": null,
      "metadata": {
        "id": "ASdgLIt2s-ux"
      },
      "outputs": [],
      "source": [
        "# ------------------------\n",
        "# This segment of code aims to manipulate a Google Sheet that we previously created.\n",
        "# Specifically, it will populate a small range ('A1:C2') of the sheet with random numbers between 1 and 10.\n",
        "# ------------------------\n",
        "\n",
        "# Using the 'open' method of our 'gspread' client (represented as 'gc') to open the Google Sheet named 'My cool spreadsheet'.\n",
        "# After opening, we directly access its first sheet using '.sheet1'.\n",
        "# This returned sheet is stored in the variable 'worksheet', which will be our interface to interact with that sheet.\n",
        "\n",
        "worksheet = gc.open('My cool spreadsheet').sheet1\n",
        "\n",
        "# Using the 'range' method of our 'worksheet' to get a list of cells in the range 'A1:C2'.\n",
        "# These cells will be the ones we'll update with random values.\n",
        "# The 'range' method returns a list of cell objects that we can read from or write to.\n",
        "# This list is stored in the variable 'cell_list'.\n",
        "\n",
        "cell_list = worksheet.range('A1:C2')\n",
        "\n",
        "# Importing the 'random' module, which provides functionality to generate random numbers.\n",
        "\n",
        "import random\n",
        "\n",
        "# Looping over each cell in our 'cell_list'.\n",
        "\n",
        "for cell in cell_list:\n",
        "    # For each cell, we set its value to a random integer between 1 and 10 using the 'randint' method from the 'random' module.\n",
        "    cell.value = random.randint(1, 10)\n",
        "\n",
        "# After all cells in 'cell_list' have been updated with random values in our Python environment,\n",
        "# we use the 'update_cells' method of the 'worksheet' to push these changes to the actual Google Sheet.\n",
        "# This ensures that the values we set in the Python environment are reflected in the Google Sheet.\n",
        "\n",
        "worksheet.update_cells(cell_list)\n"
      ]
    },
    {
      "cell_type": "markdown",
      "metadata": {
        "id": "7taylj9wpsA2"
      },
      "source": [
        "## PyDrive\n",
        "\n",
        "The examples below demonstrate authentication and file upload/download using PyDrive. More examples are available in the [PyDrive documentation](https://pythonhosted.org/PyDrive/).\n",
        "\n",
        "**PyDrive** is a Python library that simplifies the process of uploading, downloading, and managing files on Google Drive using Google's Drive API. Instead of dealing directly with the complex details of the API, PyDrive provides a higher-level, more user-friendly interface for developers.\n",
        "\n",
        "**Let's break it down a bit more:**\n",
        "\n",
        "**Python Library**: This means it's a set of code functions and methods that you can easily integrate into your own Python programs. Think of it as a toolkit that provides specific tools related to Google Drive.\n",
        "\n",
        "**Google Drive**: Google's cloud-based storage service where you can save files, photos, and more.\n",
        "\n",
        "**Google Drive API**: The set of rules and methods provided by Google that allow developers to interact with Google Drive programmatically. APIs (Application Programming Interfaces) are like bridges that let one software communicate with another.\n",
        "\n",
        "*With PyDrive, you can*:\n",
        "\n",
        "Authenticate with Google Drive.\n",
        "List files and folders in your Drive.\n",
        "Upload files to Google Drive.\n",
        "Download files from Google Drive.\n",
        "Modify file and folder metadata.\n",
        "And much more.\n",
        "Why use PyDrive?\n",
        "\n",
        "Imagine you're trying to manage a large number of files on Google Drive through a Python application. Doing this directly with the Google Drive API might be complicated. PyDrive makes this task easier and more intuitive. It's especially helpful for beginners because it abstracts many of the challenging parts of the API into simple Pythonic methods.\n"
      ]
    },
    {
      "cell_type": "code",
      "execution_count": null,
      "metadata": {
        "id": "zU5b6dlRwUQk"
      },
      "outputs": [],
      "source": [
        "# ------ Google Drive and Colab Integration Code ------\n",
        "\n",
        "# PyDrive Library: This library helps in working with Google Drive using Python.\n",
        "\n",
        "from pydrive.auth import GoogleAuth  # Used to authenticate and get access to Google Drive.\n",
        "from pydrive.drive import GoogleDrive  # Once authenticated, this is used to interact (e.g., upload, download) with Google Drive.\n",
        "\n",
        "# Google Colab Library: Colab is a Google service that lets you run Python code in the cloud.\n",
        "\n",
        "from google.colab import auth  # Used to authenticate and get access to Google Colab's environment.\n",
        "\n",
        "# OAuth2 Library: A protocol for authorization. Google uses this protocol for granting apps access to user's data without revealing passwords.\n",
        "\n",
        "from oauth2client.client import GoogleCredentials  # This is used for the actual process of getting authenticated credentials.\n",
        "\n",
        "# Note: This code sets up the environment for working with Google Drive and Google Colab.\n",
        "# It's like setting up the 'login' and 'permissions' to access and work with Google Drive using a Python script in Google Colab.\n"
      ]
    },
    {
      "cell_type": "markdown",
      "metadata": {
        "id": "XkHZtRhm09QS"
      },
      "source": [
        "Authenticate and create the PyDrive client.\n",
        "\n",
        "***TERMS***\n",
        "\n",
        "**Credentials**: Credentials are a way to prove one's right to access specific information or perform certain actions. They are usually composed of an identifier (like a username) and a secret (like a password).\n",
        "Example: When you log into an email service, you provide your email address (identifier) and password (secret) as your credentials.\n",
        "\n",
        "**Instance:** In most contexts, especially in computing and programming, an instance refers to a single occurrence or representation of an object or a class. Think of it like an individual item created from a blueprint. Example: If you have a blueprint for a house (which is like a class in programming), every house you build from that blueprint is an instance of that design.\n",
        "\n",
        "**Client:** A client can be a piece of software or system that requests services or resources from another software or system known as a server. Together, they form the client-server model where the server provides resources or services, and the client consumes or uses them. Example: Your web browser (like Chrome or Firefox) is a client. When you type in a URL, your browser requests the webpage from a server, and the server sends back the webpage to be displayed on your browser.\n"
      ]
    },
    {
      "cell_type": "code",
      "execution_count": null,
      "metadata": {
        "id": "1w7lrGcW08Ds"
      },
      "outputs": [],
      "source": [
        "# ------ Setting Up Authentication for Google Drive Access ------\n",
        "\n",
        "# Start the authentication process.\n",
        "\n",
        "auth.authenticate_user()\n",
        "\n",
        "# This line is like asking the user, \"Please log in.\"\n",
        "# When you run this in a Colab notebook, it'll provide a link for you to click,\n",
        "# which will lead you to a login page. After logging in, you get a code to paste back in the notebook,\n",
        "# verifying your identity.\n",
        "\n",
        "gauth = GoogleAuth()\n",
        "\n",
        "# This line creates an instance of the GoogleAuth class. Think of it as setting up a \"session\"\n",
        "# or \"connection\" where we'll authenticate ourselves.\n",
        "\n",
        "gauth.credentials = GoogleCredentials.get_application_default()\n",
        "\n",
        "# Here, we are setting our authentication session's (gauth's) credentials using Google's default method.\n",
        "# This method fetches the credentials we just set up when we did \"auth.authenticate_user()\".\n",
        "# It's like saying, \"Use the login details we just provided.\"\n",
        "\n",
        "drive = GoogleDrive(gauth)\n",
        "\n",
        "# Now that we're authenticated, this line connects us to Google Drive.\n",
        "# It creates an instance of the GoogleDrive class, which we'll use to perform various Google Drive operations\n",
        "# (like uploading or downloading files).\n",
        "# Think of \"drive\" as your gateway to your Google Drive now that you've logged in.\n",
        "\n",
        "# After these lines, you're set up and authenticated to interact with your Google Drive through the \"drive\" variable!\n"
      ]
    },
    {
      "cell_type": "markdown",
      "metadata": {
        "id": "ZF3Topk31DCF"
      },
      "source": [
        "Create and upload a text file.\n"
      ]
    },
    {
      "cell_type": "code",
      "execution_count": null,
      "metadata": {
        "colab": {
          "base_uri": "https://localhost:8080/"
        },
        "id": "vBuUW-q41tb7",
        "outputId": "1980dc83-848e-44d4-c484-b2205c86296c"
      },
      "outputs": [
        {
          "output_type": "stream",
          "name": "stdout",
          "text": [
            "Uploaded file with ID 1gLwdLzOeE9IkGwDO1KsgEIT_Ra2NH25r\n"
          ]
        }
      ],
      "source": [
        "# ------ Uploading a File to Google Drive ------\n",
        "\n",
        "# Create a new file object for Google Drive.\n",
        "# This doesn't create the file on Drive yet, it's just setting up the details in our script.\n",
        "\n",
        "uploaded = drive.CreateFile({'title': 'Sample upload.txt'})\n",
        "\n",
        "# Here, we're saying, \"Hey, I want to create a new file called 'Sample upload.txt'.\"\n",
        "\n",
        "# Set the content of the file.\n",
        "\n",
        "uploaded.SetContentString('Sample upload file content')\n",
        "\n",
        "# With this line, we're adding content to the file. It's like writing \"Sample upload file content\" inside our file.\n",
        "\n",
        "# Actually upload the file to Google Drive.\n",
        "\n",
        "uploaded.Upload()\n",
        "\n",
        "# Now, with this command, we're telling our script, \"Okay, take the file we just set up and put it on Google Drive.\"\n",
        "# This is when the file actually gets created on Google Drive with the content we provided.\n",
        "\n",
        "# Print the ID of the uploaded file.\n",
        "\n",
        "print('Uploaded file with ID {}'.format(uploaded.get('id')))\n",
        "\n",
        "# Every file on Google Drive has a unique ID, which can be used to locate or reference it.\n",
        "# After uploading, we're fetching that ID and printing it out.\n",
        "# The format() function replaces the {} in the string with the file's unique ID.\n",
        "\n",
        "# At the end of this code, you've created a file on Google Drive, added content to it, and uploaded it!\n"
      ]
    },
    {
      "cell_type": "markdown",
      "metadata": {
        "id": "bbOFN3d_1tcG"
      },
      "source": [
        "Load a file by ID and print its contents.\n"
      ]
    },
    {
      "cell_type": "code",
      "execution_count": null,
      "metadata": {
        "colab": {
          "base_uri": "https://localhost:8080/"
        },
        "id": "eFOvsAYk1tcH",
        "outputId": "2c30c03b-afcd-4d6d-9fa1-9788a772e882"
      },
      "outputs": [
        {
          "output_type": "stream",
          "name": "stdout",
          "text": [
            "Downloaded content \"Sample upload file content\"\n"
          ]
        }
      ],
      "source": [
        "# ------ Downloading a File's Content from Google Drive ------\n",
        "\n",
        "# Create a file object that references the file we uploaded earlier.\n",
        "downloaded = drive.CreateFile({'id': uploaded.get('id')})\n",
        "\n",
        "# Here, instead of setting up a file by its title, we're using the unique ID of the file we uploaded.\n",
        "# This way, we can be sure we're referencing the exact file we want.\n",
        "\n",
        "# Print the content of the downloaded file.\n",
        "\n",
        "print('Downloaded content \"{}\"'.format(downloaded.GetContentString()))\n",
        "\n",
        "# This line fetches the content of the file we just referenced and then prints it out.\n",
        "# The GetContentString() function retrieves the content of the file as a string.\n",
        "# The format() function replaces the {} in the string with the actual content of the file.\n",
        "\n",
        "# At the end of this code, you've not downloaded the file in the traditional sense (like saving it to your device),\n",
        "# but rather, you've fetched its content and displayed it.\n"
      ]
    },
    {
      "cell_type": "code",
      "execution_count": null,
      "metadata": {
        "colab": {
          "base_uri": "https://localhost:8080/"
        },
        "id": "F1-nafvN-NwW",
        "outputId": "95fa9d55-b3cb-4e6f-c2e6-27a9850cfa7b"
      },
      "outputs": [
        {
          "output_type": "stream",
          "name": "stdout",
          "text": [
            "/tmp/to_upload.txt contains:\n",
            "my sample file"
          ]
        }
      ],
      "source": [
        "# ------ Writing to a Local File and Displaying its Content ------\n",
        "\n",
        "# Open (or create if it doesn't exist) a file named 'to_upload.txt' in the '/tmp' directory for writing.\n",
        "with open('/tmp/to_upload.txt', 'w') as f:\n",
        "\n",
        "    # The 'with' statement is used here to ensure the file is properly closed after its suite finishes.\n",
        "    # 'w' means we're opening the file in write mode.\n",
        "\n",
        "    f.write('my sample file')\n",
        "\n",
        "    # This line writes the string 'my sample file' to our opened file.\n",
        "\n",
        "# Print out a message to indicate which file's content we're about to display.\n",
        "\n",
        "print('/tmp/to_upload.txt contains:')\n",
        "\n",
        "# Display the content of the file using a shell command.\n",
        "\n",
        "!cat /tmp/to_upload.txt\n",
        "\n",
        "# The '!' symbol\n"
      ]
    },
    {
      "cell_type": "markdown",
      "metadata": {
        "id": "k9q0pp33dckN"
      },
      "source": [
        "\\## Downloading data from a sheet into Python as a Pandas DataFrame\n",
        "\n",
        "Read back the random data that we inserted above and convert the result into a [Pandas DataFrame](https://pandas.pydata.org/pandas-docs/stable/generated/pandas.DataFrame.html)."
      ]
    },
    {
      "cell_type": "code",
      "execution_count": null,
      "metadata": {
        "id": "J4QxBareshEV"
      },
      "outputs": [],
      "source": [
        "worksheet = gc.open('My cool spreadsheet').sheet1\n",
        "\n",
        "# get_all_values gives a list of rows.\n",
        "rows = worksheet.get_all_values()\n",
        "print(rows)\n",
        "\n",
        "import pandas as pd\n",
        "pd.DataFrame.from_records(rows)"
      ]
    },
    {
      "cell_type": "markdown",
      "source": [],
      "metadata": {
        "id": "mYZJUDYAHEx5"
      }
    }
  ],
  "metadata": {
    "colab": {
      "provenance": [],
      "include_colab_link": true
    },
    "kernelspec": {
      "display_name": "Python 3",
      "name": "python3"
    }
  },
  "nbformat": 4,
  "nbformat_minor": 0
}